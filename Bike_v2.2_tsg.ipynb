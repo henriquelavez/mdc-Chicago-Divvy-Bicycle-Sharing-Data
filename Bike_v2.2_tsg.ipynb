{
 "cells": [
  {
   "cell_type": "markdown",
   "metadata": {},
   "source": [
    "# Chicago Divvy Bicycle Sharing Data\n",
    "\n",
    "#### Link Kaggle\n",
    "https://www.kaggle.com/yingwurenjian/chicago-divvy-bicycle-sharing-data\n",
    "\n",
    "#### Descrição das features:\n",
    "<br><b>trip_idID</b> attached to each trip taken\n",
    "<br><b>year</b>\n",
    "<br><b>month</b>\n",
    "<br><b>week</b> week No.\n",
    "<br><b>day</b> \n",
    "<br><b>hour</b> \n",
    "<br><b>usertype</b> \"Customer\" is a rider who purchased a 24-Hour Pass; \"Subscriber\" is a rider who purchased an Annual Membership\n",
    "<br><b>gender</b>\n",
    "<br><b>starttimeday</b> and time trip started, in CST\n",
    "<br><b>stoptimeday</b> and time trip ended, in CST\n",
    "<br><b>tripdurationtime</b> of trip in minutes\n",
    "<br><b>temperature</b>\n",
    "<br><b>events</b>\n",
    "<br><b>from_station_idID</b> of station where trip originated\n",
    "<br><b>from_station_namename</b> of station where trip terminated\n",
    "<br><b>latitude_startstation</b> latitude\n",
    "<br><b>longitude_startstation</b> longitude\n",
    "<br><b>dpcapacity_startnumber</b> of total docks at each station\n",
    "<br><b>to_station_id</b>\n",
    "<br><b>to_station_name</b>\n",
    "<br><b>latitude_end</b>\n",
    "<br><b>longitude_end</b>\n",
    "<br><b>dpcapacity_endnumber</b> of total docks at each station"
   ]
  },
  {
   "cell_type": "markdown",
   "metadata": {},
   "source": [
    "### Bibliotecas"
   ]
  },
  {
   "cell_type": "code",
   "execution_count": 2,
   "metadata": {},
   "outputs": [
    {
     "name": "stderr",
     "output_type": "stream",
     "text": [
      "C:\\Users\\henrique\\Anaconda3\\lib\\site-packages\\h5py\\__init__.py:36: FutureWarning: Conversion of the second argument of issubdtype from `float` to `np.floating` is deprecated. In future, it will be treated as `np.float64 == np.dtype(float).type`.\n",
      "  from ._conv import register_converters as _register_converters\n",
      "Using TensorFlow backend.\n"
     ]
    }
   ],
   "source": [
    "import numpy as np\n",
    "import pandas as pd\n",
    "import matplotlib.pyplot as plt\n",
    "import warnings\n",
    "from keras.preprocessing.sequence import TimeseriesGenerator\n",
    "from keras.models import Sequential\n",
    "from keras.layers import Dense, Dropout, Flatten, LSTM, BatchNormalization, MaxPooling1D\n",
    "from sklearn.preprocessing import MinMaxScaler\n",
    "\n",
    "import warnings\n",
    "\n",
    "#warnings.filterwarnings('ignore')"
   ]
  },
  {
   "cell_type": "markdown",
   "metadata": {},
   "source": [
    "### Carregar dataset"
   ]
  },
  {
   "cell_type": "code",
   "execution_count": 4,
   "metadata": {},
   "outputs": [
    {
     "data": {
      "text/plain": [
       "(9495235, 23)"
      ]
     },
     "execution_count": 4,
     "metadata": {},
     "output_type": "execute_result"
    }
   ],
   "source": [
    "#Carregar dataset\n",
    "path = \"data.csv\"\n",
    "df = pd.read_csv(path)\n",
    "\n",
    "df.shape"
   ]
  },
  {
   "cell_type": "markdown",
   "metadata": {},
   "source": [
    "### Correções"
   ]
  },
  {
   "cell_type": "code",
   "execution_count": 5,
   "metadata": {},
   "outputs": [],
   "source": [
    "#Corringindo campo day com 0\n",
    "df.day =  df.starttime.astype(str).str.slice(8,10).astype(int)"
   ]
  },
  {
   "cell_type": "markdown",
   "metadata": {},
   "source": [
    "### Novas Features"
   ]
  },
  {
   "cell_type": "code",
   "execution_count": 6,
   "metadata": {},
   "outputs": [],
   "source": [
    "#Campo data\n",
    "df['date'] = df.starttime.astype(str).str[:13]  + ':00:00'\n",
    "\n",
    "#Convertendo para datetime\n",
    "df.date = pd.to_datetime(df.date)"
   ]
  },
  {
   "cell_type": "markdown",
   "metadata": {},
   "source": [
    "### Consolidando dados"
   ]
  },
  {
   "cell_type": "code",
   "execution_count": 7,
   "metadata": {},
   "outputs": [
    {
     "data": {
      "text/html": [
       "<div>\n",
       "<style scoped>\n",
       "    .dataframe tbody tr th:only-of-type {\n",
       "        vertical-align: middle;\n",
       "    }\n",
       "\n",
       "    .dataframe tbody tr th {\n",
       "        vertical-align: top;\n",
       "    }\n",
       "\n",
       "    .dataframe thead th {\n",
       "        text-align: right;\n",
       "    }\n",
       "</style>\n",
       "<table border=\"1\" class=\"dataframe\">\n",
       "  <thead>\n",
       "    <tr style=\"text-align: right;\">\n",
       "      <th></th>\n",
       "      <th>count</th>\n",
       "    </tr>\n",
       "    <tr>\n",
       "      <th>date</th>\n",
       "      <th></th>\n",
       "    </tr>\n",
       "  </thead>\n",
       "  <tbody>\n",
       "    <tr>\n",
       "      <th>2017-12-31 17:00:00</th>\n",
       "      <td>38</td>\n",
       "    </tr>\n",
       "    <tr>\n",
       "      <th>2017-12-31 18:00:00</th>\n",
       "      <td>27</td>\n",
       "    </tr>\n",
       "    <tr>\n",
       "      <th>2017-12-31 20:00:00</th>\n",
       "      <td>19</td>\n",
       "    </tr>\n",
       "    <tr>\n",
       "      <th>2017-12-31 22:00:00</th>\n",
       "      <td>9</td>\n",
       "    </tr>\n",
       "    <tr>\n",
       "      <th>2017-12-31 23:00:00</th>\n",
       "      <td>7</td>\n",
       "    </tr>\n",
       "  </tbody>\n",
       "</table>\n",
       "</div>"
      ],
      "text/plain": [
       "                     count\n",
       "date                      \n",
       "2017-12-31 17:00:00     38\n",
       "2017-12-31 18:00:00     27\n",
       "2017-12-31 20:00:00     19\n",
       "2017-12-31 22:00:00      9\n",
       "2017-12-31 23:00:00      7"
      ]
     },
     "execution_count": 7,
     "metadata": {},
     "output_type": "execute_result"
    }
   ],
   "source": [
    "#Agregação por date\n",
    "df2 =  df.groupby(['date']).size().reset_index(name='count')\n",
    "\n",
    "#Date como index\n",
    "df2.index = df2['date']\n",
    "del df2['date']\n",
    "\n",
    "df2.head(5)\n",
    "df2.tail(5)"
   ]
  },
  {
   "cell_type": "code",
   "execution_count": 8,
   "metadata": {},
   "outputs": [
    {
     "data": {
      "image/png": "[encoded data removed]",
      "text/plain": [
       "<matplotlib.figure.Figure at 0x21f4c48b940>"
      ]
     },
     "metadata": {},
     "output_type": "display_data"
    }
   ],
   "source": [
    "plt.figure(figsize = (15, 5))\n",
    "plt.plot(df2)\n",
    "plt.show()"
   ]
  },
  {
   "cell_type": "markdown",
   "metadata": {},
   "source": [
    "### Normalizando features"
   ]
  },
  {
   "cell_type": "code",
   "execution_count": 9,
   "metadata": {},
   "outputs": [],
   "source": [
    "values = df2['count'].values.reshape(-1,1)\n",
    "values = values.astype('float32')\n",
    "f_norm = MinMaxScaler(feature_range=(0, 1))\n",
    "v_norm = f_norm.fit_transform(values)"
   ]
  },
  {
   "cell_type": "markdown",
   "metadata": {},
   "source": [
    "### Particionando Sets"
   ]
  },
  {
   "cell_type": "code",
   "execution_count": 11,
   "metadata": {},
   "outputs": [
    {
     "name": "stdout",
     "output_type": "stream",
     "text": [
      "Train: 27693\n",
      "Val:   6804\n",
      "Test:  120\n"
     ]
    }
   ],
   "source": [
    "#Definindo o tamanho de cada set\n",
    "train_size = int(len(v_norm) * 0.8)\n",
    "test_size  = (5*24)\n",
    "val_size   = len(v_norm) - train_size - test_size\n",
    "\n",
    "#Particionando os sets\n",
    "train = v_norm[0:train_size,:]\n",
    "val   = v_norm[train_size:(train_size+val_size),:]\n",
    "test  = v_norm[(train_size+val_size):len(v_norm),:]\n",
    "\n",
    "#Volume de dados\n",
    "print('Train:', len(train))\n",
    "print('Val:  ', len(val))\n",
    "print('Test: ', len(test))"
   ]
  },
  {
   "cell_type": "markdown",
   "metadata": {},
   "source": [
    "### Definindo Modelo"
   ]
  },
  {
   "cell_type": "code",
   "execution_count": 13,
   "metadata": {},
   "outputs": [
    {
     "name": "stdout",
     "output_type": "stream",
     "text": [
      "_________________________________________________________________\n",
      "Layer (type)                 Output Shape              Param #   \n",
      "=================================================================\n",
      "lstm_1 (LSTM)                (None, 256)               264192    \n",
      "_________________________________________________________________\n",
      "dense_1 (Dense)              (None, 1)                 257       \n",
      "=================================================================\n",
      "Total params: 264,449\n",
      "Trainable params: 264,449\n",
      "Non-trainable params: 0\n",
      "_________________________________________________________________\n",
      "None\n"
     ]
    }
   ],
   "source": [
    "batch_size=2\n",
    "time_steps=24\n",
    "\n",
    "trainGenerator = TimeseriesGenerator(train, train,\n",
    "                               length=time_steps, sampling_rate=1,\n",
    "                               batch_size=batch_size)\n",
    "valGenerator = TimeseriesGenerator(val,  val,\n",
    "                               length=time_steps, sampling_rate=1,\n",
    "                               batch_size=batch_size)\n",
    "testGenerator = TimeseriesGenerator(test,  test,\n",
    "                               length=time_steps, sampling_rate=1,\n",
    "                               batch_size=batch_size)\n",
    "\n",
    "#Reshape\n",
    "#trainX_ = np.reshape(trainX, (trainX.shape[0], 1, trainX.shape[1]))\n",
    "#valX_   = np.reshape(valX, (valX.shape[0], 1, valX.shape[1]))\n",
    "\n",
    "#Dfinindo modelo LSTM\n",
    "model = Sequential()\n",
    "model.add(LSTM(256, input_shape=(time_steps, train.shape[1])))\n",
    "\n",
    "#model.add(Dropout(0.2))\n",
    "#model.add(Dense(128))\n",
    "#model.add(BatchNormalization())\n",
    "\n",
    "model.add(Dense(1))\n",
    "\n",
    "print(model.summary())\n",
    "\n",
    "#Compilando Modelo\n",
    "model.compile(loss='mean_squared_error', optimizer='adam')"
   ]
  },
  {
   "cell_type": "markdown",
   "metadata": {},
   "source": [
    "### Treinando Modelo"
   ]
  },
  {
   "cell_type": "code",
   "execution_count": null,
   "metadata": {},
   "outputs": [
    {
     "name": "stdout",
     "output_type": "stream",
     "text": [
      "Epoch 1/30\n",
      "30/30 [==============================] - 20s 671ms/step - loss: 0.0181 - val_loss: 0.0272\n",
      "Epoch 2/30\n",
      "30/30 [==============================] - 20s 677ms/step - loss: 0.0131 - val_loss: 0.0268\n",
      "Epoch 3/30\n",
      "30/30 [==============================] - 19s 625ms/step - loss: 0.0051 - val_loss: 0.0254\n",
      "Epoch 4/30\n",
      "30/30 [==============================] - 19s 618ms/step - loss: 0.0132 - val_loss: 0.0220\n",
      "Epoch 5/30\n",
      "30/30 [==============================] - 19s 638ms/step - loss: 0.0139 - val_loss: 0.0219\n",
      "Epoch 6/30\n",
      "30/30 [==============================] - 19s 638ms/step - loss: 0.0115 - val_loss: 0.0237\n",
      "Epoch 7/30\n",
      "30/30 [==============================] - 19s 645ms/step - loss: 0.0051 - val_loss: 0.0234\n",
      "Epoch 8/30\n",
      "30/30 [==============================] - 19s 632ms/step - loss: 0.0028 - val_loss: 0.0215\n",
      "Epoch 9/30\n",
      "30/30 [==============================] - 19s 646ms/step - loss: 0.0041 - val_loss: 0.0181\n",
      "Epoch 10/30\n",
      "30/30 [==============================] - 20s 666ms/step - loss: 0.0071 - val_loss: 0.0199\n",
      "Epoch 11/30\n",
      "30/30 [==============================] - 20s 666ms/step - loss: 0.0078 - val_loss: 0.0177\n",
      "Epoch 12/30\n",
      "30/30 [==============================] - 19s 643ms/step - loss: 0.0104 - val_loss: 0.0200\n",
      "Epoch 13/30\n",
      "30/30 [==============================] - 18s 605ms/step - loss: 0.0133 - val_loss: 0.0143\n",
      "Epoch 14/30\n",
      "30/30 [==============================] - 20s 659ms/step - loss: 0.0076 - val_loss: 0.0157\n",
      "Epoch 15/30\n",
      "30/30 [==============================] - 20s 671ms/step - loss: 0.0074 - val_loss: 0.0142\n",
      "Epoch 16/30\n",
      "30/30 [==============================] - 20s 656ms/step - loss: 0.0039 - val_loss: 0.0157\n",
      "Epoch 17/30\n",
      "30/30 [==============================] - 19s 635ms/step - loss: 0.0091 - val_loss: 0.0136\n",
      "Epoch 18/30\n",
      "30/30 [==============================] - 20s 654ms/step - loss: 0.0046 - val_loss: 0.0125\n",
      "Epoch 19/30\n",
      "30/30 [==============================] - 19s 642ms/step - loss: 0.0059 - val_loss: 0.0137\n",
      "Epoch 20/30\n",
      "30/30 [==============================] - 20s 677ms/step - loss: 0.0045 - val_loss: 0.0118\n",
      "Epoch 21/30\n",
      "30/30 [==============================] - 19s 618ms/step - loss: 0.0064 - val_loss: 0.0116\n",
      "Epoch 22/30\n",
      "30/30 [==============================] - 20s 651ms/step - loss: 0.0034 - val_loss: 0.0124\n",
      "Epoch 23/30\n",
      "30/30 [==============================] - 19s 637ms/step - loss: 0.0056 - val_loss: 0.0106\n",
      "Epoch 24/30\n",
      "30/30 [==============================] - 18s 598ms/step - loss: 0.0078 - val_loss: 0.0104\n",
      "Epoch 25/30\n",
      "30/30 [==============================] - 18s 615ms/step - loss: 0.0060 - val_loss: 0.0109\n",
      "Epoch 26/30\n",
      "30/30 [==============================] - 22s 718ms/step - loss: 0.0083 - val_loss: 0.0091\n",
      "Epoch 27/30\n",
      "30/30 [==============================] - 19s 647ms/step - loss: 0.0037 - val_loss: 0.0089\n",
      "Epoch 28/30\n",
      "30/30 [==============================] - 19s 627ms/step - loss: 0.0034 - val_loss: 0.0093\n",
      "Epoch 29/30\n",
      "30/30 [==============================] - 18s 610ms/step - loss: 0.0057 - val_loss: 0.0089\n",
      "Epoch 30/30\n",
      "29/30 [============================>.] - ETA: 0s - loss: 0.0062"
     ]
    }
   ],
   "source": [
    "epochs = 30\n",
    "batch_size = 300\n",
    "\n",
    "#Fit nos dados\n",
    "history = model.fit_generator(trainGenerator, \n",
    "                    steps_per_epoch= 30, \n",
    "                    epochs = epochs,\n",
    "                    validation_data = valGenerator)\n",
    "\n",
    "#history = model.fit(trainX_, trainY, epochs=epochs, batch_size=batch_size, validation_data=(valX_, valY))"
   ]
  },
  {
   "cell_type": "code",
   "execution_count": 28,
   "metadata": {},
   "outputs": [
    {
     "data": {
      "image/png": "[encoded data removed]",
      "text/plain": [
       "<matplotlib.figure.Figure at 0x2e46e13d860>"
      ]
     },
     "metadata": {},
     "output_type": "display_data"
    }
   ],
   "source": [
    "#Plotando\n",
    "plt.plot(history.history['loss'])\n",
    "plt.plot(history.history['val_loss'])\n",
    "plt.title('Modelo train vs validation loss')\n",
    "plt.ylabel('loss')\n",
    "plt.xlabel('epoch')\n",
    "plt.legend(['train', 'validation'], loc='upper right')\n",
    "plt.show()"
   ]
  },
  {
   "cell_type": "markdown",
   "metadata": {},
   "source": [
    "### Predict"
   ]
  },
  {
   "cell_type": "code",
   "execution_count": 37,
   "metadata": {},
   "outputs": [
    {
     "ename": "ValueError",
     "evalue": "Error when checking input: expected lstm_4_input to have shape (24, 1) but got array with shape (1, 1)",
     "output_type": "error",
     "traceback": [
      "\u001b[1;31m---------------------------------------------------------------------------\u001b[0m",
      "\u001b[1;31mValueError\u001b[0m                                Traceback (most recent call last)",
      "\u001b[1;32m<ipython-input-37-9df240e5993e>\u001b[0m in \u001b[0;36m<module>\u001b[1;34m()\u001b[0m\n\u001b[0;32m      3\u001b[0m \u001b[1;33m\u001b[0m\u001b[0m\n\u001b[0;32m      4\u001b[0m \u001b[1;31m#Predict\u001b[0m\u001b[1;33m\u001b[0m\u001b[1;33m\u001b[0m\u001b[0m\n\u001b[1;32m----> 5\u001b[1;33m \u001b[0mmpred\u001b[0m \u001b[1;33m=\u001b[0m \u001b[0mmodel\u001b[0m\u001b[1;33m.\u001b[0m\u001b[0mpredict\u001b[0m\u001b[1;33m(\u001b[0m\u001b[0mtestX_\u001b[0m\u001b[1;33m)\u001b[0m\u001b[1;33m\u001b[0m\u001b[0m\n\u001b[0m\u001b[0;32m      6\u001b[0m \u001b[1;33m\u001b[0m\u001b[0m\n\u001b[0;32m      7\u001b[0m \u001b[1;31m#Convertendo para valor não normalizado\u001b[0m\u001b[1;33m\u001b[0m\u001b[1;33m\u001b[0m\u001b[0m\n",
      "\u001b[1;32m~\\Anaconda3\\lib\\site-packages\\keras\\engine\\training.py\u001b[0m in \u001b[0;36mpredict\u001b[1;34m(self, x, batch_size, verbose, steps)\u001b[0m\n\u001b[0;32m   1150\u001b[0m                              'argument.')\n\u001b[0;32m   1151\u001b[0m         \u001b[1;31m# Validate user data.\u001b[0m\u001b[1;33m\u001b[0m\u001b[1;33m\u001b[0m\u001b[0m\n\u001b[1;32m-> 1152\u001b[1;33m         \u001b[0mx\u001b[0m\u001b[1;33m,\u001b[0m \u001b[0m_\u001b[0m\u001b[1;33m,\u001b[0m \u001b[0m_\u001b[0m \u001b[1;33m=\u001b[0m \u001b[0mself\u001b[0m\u001b[1;33m.\u001b[0m\u001b[0m_standardize_user_data\u001b[0m\u001b[1;33m(\u001b[0m\u001b[0mx\u001b[0m\u001b[1;33m)\u001b[0m\u001b[1;33m\u001b[0m\u001b[0m\n\u001b[0m\u001b[0;32m   1153\u001b[0m         \u001b[1;32mif\u001b[0m \u001b[0mself\u001b[0m\u001b[1;33m.\u001b[0m\u001b[0mstateful\u001b[0m\u001b[1;33m:\u001b[0m\u001b[1;33m\u001b[0m\u001b[0m\n\u001b[0;32m   1154\u001b[0m             \u001b[1;32mif\u001b[0m \u001b[0mx\u001b[0m\u001b[1;33m[\u001b[0m\u001b[1;36m0\u001b[0m\u001b[1;33m]\u001b[0m\u001b[1;33m.\u001b[0m\u001b[0mshape\u001b[0m\u001b[1;33m[\u001b[0m\u001b[1;36m0\u001b[0m\u001b[1;33m]\u001b[0m \u001b[1;33m>\u001b[0m \u001b[0mbatch_size\u001b[0m \u001b[1;32mand\u001b[0m \u001b[0mx\u001b[0m\u001b[1;33m[\u001b[0m\u001b[1;36m0\u001b[0m\u001b[1;33m]\u001b[0m\u001b[1;33m.\u001b[0m\u001b[0mshape\u001b[0m\u001b[1;33m[\u001b[0m\u001b[1;36m0\u001b[0m\u001b[1;33m]\u001b[0m \u001b[1;33m%\u001b[0m \u001b[0mbatch_size\u001b[0m \u001b[1;33m!=\u001b[0m \u001b[1;36m0\u001b[0m\u001b[1;33m:\u001b[0m\u001b[1;33m\u001b[0m\u001b[0m\n",
      "\u001b[1;32m~\\Anaconda3\\lib\\site-packages\\keras\\engine\\training.py\u001b[0m in \u001b[0;36m_standardize_user_data\u001b[1;34m(self, x, y, sample_weight, class_weight, check_array_lengths, batch_size)\u001b[0m\n\u001b[0;32m    752\u001b[0m             \u001b[0mfeed_input_shapes\u001b[0m\u001b[1;33m,\u001b[0m\u001b[1;33m\u001b[0m\u001b[0m\n\u001b[0;32m    753\u001b[0m             \u001b[0mcheck_batch_axis\u001b[0m\u001b[1;33m=\u001b[0m\u001b[1;32mFalse\u001b[0m\u001b[1;33m,\u001b[0m  \u001b[1;31m# Don't enforce the batch size.\u001b[0m\u001b[1;33m\u001b[0m\u001b[0m\n\u001b[1;32m--> 754\u001b[1;33m             exception_prefix='input')\n\u001b[0m\u001b[0;32m    755\u001b[0m \u001b[1;33m\u001b[0m\u001b[0m\n\u001b[0;32m    756\u001b[0m         \u001b[1;32mif\u001b[0m \u001b[0my\u001b[0m \u001b[1;32mis\u001b[0m \u001b[1;32mnot\u001b[0m \u001b[1;32mNone\u001b[0m\u001b[1;33m:\u001b[0m\u001b[1;33m\u001b[0m\u001b[0m\n",
      "\u001b[1;32m~\\Anaconda3\\lib\\site-packages\\keras\\engine\\training_utils.py\u001b[0m in \u001b[0;36mstandardize_input_data\u001b[1;34m(data, names, shapes, check_batch_axis, exception_prefix)\u001b[0m\n\u001b[0;32m    134\u001b[0m                             \u001b[1;34m': expected '\u001b[0m \u001b[1;33m+\u001b[0m \u001b[0mnames\u001b[0m\u001b[1;33m[\u001b[0m\u001b[0mi\u001b[0m\u001b[1;33m]\u001b[0m \u001b[1;33m+\u001b[0m \u001b[1;34m' to have shape '\u001b[0m \u001b[1;33m+\u001b[0m\u001b[1;33m\u001b[0m\u001b[0m\n\u001b[0;32m    135\u001b[0m                             \u001b[0mstr\u001b[0m\u001b[1;33m(\u001b[0m\u001b[0mshape\u001b[0m\u001b[1;33m)\u001b[0m \u001b[1;33m+\u001b[0m \u001b[1;34m' but got array with shape '\u001b[0m \u001b[1;33m+\u001b[0m\u001b[1;33m\u001b[0m\u001b[0m\n\u001b[1;32m--> 136\u001b[1;33m                             str(data_shape))\n\u001b[0m\u001b[0;32m    137\u001b[0m     \u001b[1;32mreturn\u001b[0m \u001b[0mdata\u001b[0m\u001b[1;33m\u001b[0m\u001b[0m\n\u001b[0;32m    138\u001b[0m \u001b[1;33m\u001b[0m\u001b[0m\n",
      "\u001b[1;31mValueError\u001b[0m: Error when checking input: expected lstm_4_input to have shape (24, 1) but got array with shape (1, 1)"
     ]
    }
   ],
   "source": [
    "#Reshape test\n",
    "testX_ = np.reshape(testX, (testX.shape[0], 1, testX.shape[1]))\n",
    "\n",
    "#Predict\n",
    "mpred = model.predict(testGenerator)\n",
    "\n",
    "#Convertendo para valor não normalizado\n",
    "mpred_inverse = f_norm.inverse_transform(mpred.reshape(-1, 1))\n",
    "testY_inverse = f_norm.inverse_transform(testY.reshape(-1, 1))\n",
    "\n",
    "#Eixo X do gráfico como data\n",
    "predictDates = df2.tail(len(mpred_inverse)).index\n",
    "\n",
    "#Gráfico\n",
    "plt.figure(figsize = (15, 5))\n",
    "plt.plot(predictDates, mpred_inverse, label='Predict')\n",
    "plt.plot(predictDates, testY_inverse, label='Atual')\n",
    "plt.legend()\n",
    "plt.show()"
   ]
  },
  {
   "cell_type": "markdown",
   "metadata": {},
   "source": [
    "<br>No modelo acima sempre prevemos o número de viagens da próxima hora, porém sempre é passado o valor de viagens da hora atual.\n",
    "<img src=\"predict1.png\">\n",
    "\n",
    "<br>A seguir utilizaremos a previsão a longo prazo, utilizando o número inicial de viagens como o da hora atual e os seguintes através da saida do predict.\n",
    "<img src=\"predict2.png\">"
   ]
  },
  {
   "cell_type": "markdown",
   "metadata": {},
   "source": [
    "### Predict longo prazo"
   ]
  },
  {
   "cell_type": "code",
   "execution_count": 38,
   "metadata": {},
   "outputs": [
    {
     "ename": "ValueError",
     "evalue": "Error when checking input: expected lstm_4_input to have shape (24, 1) but got array with shape (1, 1)",
     "output_type": "error",
     "traceback": [
      "\u001b[1;31m---------------------------------------------------------------------------\u001b[0m",
      "\u001b[1;31mValueError\u001b[0m                                Traceback (most recent call last)",
      "\u001b[1;32m<ipython-input-38-32ee985b17b4>\u001b[0m in \u001b[0;36m<module>\u001b[1;34m()\u001b[0m\n\u001b[0;32m     13\u001b[0m \u001b[1;32mfor\u001b[0m \u001b[0mi\u001b[0m \u001b[1;32min\u001b[0m \u001b[0mrange\u001b[0m\u001b[1;33m(\u001b[0m\u001b[0mlen\u001b[0m\u001b[1;33m(\u001b[0m\u001b[0mtestX_\u001b[0m\u001b[1;33m)\u001b[0m\u001b[1;33m-\u001b[0m\u001b[0mn\u001b[0m\u001b[1;33m+\u001b[0m\u001b[1;36m1\u001b[0m\u001b[1;33m)\u001b[0m\u001b[1;33m:\u001b[0m\u001b[1;33m\u001b[0m\u001b[0m\n\u001b[0;32m     14\u001b[0m     \u001b[0mvetX_\u001b[0m \u001b[1;33m=\u001b[0m \u001b[0mnp\u001b[0m\u001b[1;33m.\u001b[0m\u001b[0mreshape\u001b[0m\u001b[1;33m(\u001b[0m\u001b[0mvetX\u001b[0m\u001b[1;33m,\u001b[0m \u001b[1;33m(\u001b[0m\u001b[0mvetX\u001b[0m\u001b[1;33m.\u001b[0m\u001b[0mshape\u001b[0m\u001b[1;33m[\u001b[0m\u001b[1;36m0\u001b[0m\u001b[1;33m]\u001b[0m\u001b[1;33m,\u001b[0m \u001b[1;36m1\u001b[0m\u001b[1;33m,\u001b[0m \u001b[1;36m1\u001b[0m\u001b[1;33m)\u001b[0m\u001b[1;33m)\u001b[0m\u001b[1;33m\u001b[0m\u001b[0m\n\u001b[1;32m---> 15\u001b[1;33m     \u001b[0mmpred_lp\u001b[0m \u001b[1;33m=\u001b[0m \u001b[0mmodel\u001b[0m\u001b[1;33m.\u001b[0m\u001b[0mpredict\u001b[0m\u001b[1;33m(\u001b[0m\u001b[0mvetX_\u001b[0m\u001b[1;33m)\u001b[0m\u001b[1;33m\u001b[0m\u001b[0m\n\u001b[0m\u001b[0;32m     16\u001b[0m     \u001b[1;31m#Insere em vetX o ultimo valor predito de mpredY\u001b[0m\u001b[1;33m\u001b[0m\u001b[1;33m\u001b[0m\u001b[0m\n\u001b[0;32m     17\u001b[0m     \u001b[0mvetX\u001b[0m \u001b[1;33m=\u001b[0m \u001b[0mnp\u001b[0m\u001b[1;33m.\u001b[0m\u001b[0mappend\u001b[0m\u001b[1;33m(\u001b[0m\u001b[0mvetX\u001b[0m\u001b[1;33m,\u001b[0m \u001b[0mmpred_lp\u001b[0m\u001b[1;33m[\u001b[0m\u001b[0mlen\u001b[0m\u001b[1;33m(\u001b[0m\u001b[0mmpred_lp\u001b[0m\u001b[1;33m)\u001b[0m\u001b[1;33m-\u001b[0m\u001b[1;36m1\u001b[0m\u001b[1;33m,\u001b[0m\u001b[1;36m0\u001b[0m\u001b[1;33m]\u001b[0m\u001b[1;33m)\u001b[0m\u001b[1;33m\u001b[0m\u001b[0m\n",
      "\u001b[1;32m~\\Anaconda3\\lib\\site-packages\\keras\\engine\\training.py\u001b[0m in \u001b[0;36mpredict\u001b[1;34m(self, x, batch_size, verbose, steps)\u001b[0m\n\u001b[0;32m   1150\u001b[0m                              'argument.')\n\u001b[0;32m   1151\u001b[0m         \u001b[1;31m# Validate user data.\u001b[0m\u001b[1;33m\u001b[0m\u001b[1;33m\u001b[0m\u001b[0m\n\u001b[1;32m-> 1152\u001b[1;33m         \u001b[0mx\u001b[0m\u001b[1;33m,\u001b[0m \u001b[0m_\u001b[0m\u001b[1;33m,\u001b[0m \u001b[0m_\u001b[0m \u001b[1;33m=\u001b[0m \u001b[0mself\u001b[0m\u001b[1;33m.\u001b[0m\u001b[0m_standardize_user_data\u001b[0m\u001b[1;33m(\u001b[0m\u001b[0mx\u001b[0m\u001b[1;33m)\u001b[0m\u001b[1;33m\u001b[0m\u001b[0m\n\u001b[0m\u001b[0;32m   1153\u001b[0m         \u001b[1;32mif\u001b[0m \u001b[0mself\u001b[0m\u001b[1;33m.\u001b[0m\u001b[0mstateful\u001b[0m\u001b[1;33m:\u001b[0m\u001b[1;33m\u001b[0m\u001b[0m\n\u001b[0;32m   1154\u001b[0m             \u001b[1;32mif\u001b[0m \u001b[0mx\u001b[0m\u001b[1;33m[\u001b[0m\u001b[1;36m0\u001b[0m\u001b[1;33m]\u001b[0m\u001b[1;33m.\u001b[0m\u001b[0mshape\u001b[0m\u001b[1;33m[\u001b[0m\u001b[1;36m0\u001b[0m\u001b[1;33m]\u001b[0m \u001b[1;33m>\u001b[0m \u001b[0mbatch_size\u001b[0m \u001b[1;32mand\u001b[0m \u001b[0mx\u001b[0m\u001b[1;33m[\u001b[0m\u001b[1;36m0\u001b[0m\u001b[1;33m]\u001b[0m\u001b[1;33m.\u001b[0m\u001b[0mshape\u001b[0m\u001b[1;33m[\u001b[0m\u001b[1;36m0\u001b[0m\u001b[1;33m]\u001b[0m \u001b[1;33m%\u001b[0m \u001b[0mbatch_size\u001b[0m \u001b[1;33m!=\u001b[0m \u001b[1;36m0\u001b[0m\u001b[1;33m:\u001b[0m\u001b[1;33m\u001b[0m\u001b[0m\n",
      "\u001b[1;32m~\\Anaconda3\\lib\\site-packages\\keras\\engine\\training.py\u001b[0m in \u001b[0;36m_standardize_user_data\u001b[1;34m(self, x, y, sample_weight, class_weight, check_array_lengths, batch_size)\u001b[0m\n\u001b[0;32m    752\u001b[0m             \u001b[0mfeed_input_shapes\u001b[0m\u001b[1;33m,\u001b[0m\u001b[1;33m\u001b[0m\u001b[0m\n\u001b[0;32m    753\u001b[0m             \u001b[0mcheck_batch_axis\u001b[0m\u001b[1;33m=\u001b[0m\u001b[1;32mFalse\u001b[0m\u001b[1;33m,\u001b[0m  \u001b[1;31m# Don't enforce the batch size.\u001b[0m\u001b[1;33m\u001b[0m\u001b[0m\n\u001b[1;32m--> 754\u001b[1;33m             exception_prefix='input')\n\u001b[0m\u001b[0;32m    755\u001b[0m \u001b[1;33m\u001b[0m\u001b[0m\n\u001b[0;32m    756\u001b[0m         \u001b[1;32mif\u001b[0m \u001b[0my\u001b[0m \u001b[1;32mis\u001b[0m \u001b[1;32mnot\u001b[0m \u001b[1;32mNone\u001b[0m\u001b[1;33m:\u001b[0m\u001b[1;33m\u001b[0m\u001b[0m\n",
      "\u001b[1;32m~\\Anaconda3\\lib\\site-packages\\keras\\engine\\training_utils.py\u001b[0m in \u001b[0;36mstandardize_input_data\u001b[1;34m(data, names, shapes, check_batch_axis, exception_prefix)\u001b[0m\n\u001b[0;32m    134\u001b[0m                             \u001b[1;34m': expected '\u001b[0m \u001b[1;33m+\u001b[0m \u001b[0mnames\u001b[0m\u001b[1;33m[\u001b[0m\u001b[0mi\u001b[0m\u001b[1;33m]\u001b[0m \u001b[1;33m+\u001b[0m \u001b[1;34m' to have shape '\u001b[0m \u001b[1;33m+\u001b[0m\u001b[1;33m\u001b[0m\u001b[0m\n\u001b[0;32m    135\u001b[0m                             \u001b[0mstr\u001b[0m\u001b[1;33m(\u001b[0m\u001b[0mshape\u001b[0m\u001b[1;33m)\u001b[0m \u001b[1;33m+\u001b[0m \u001b[1;34m' but got array with shape '\u001b[0m \u001b[1;33m+\u001b[0m\u001b[1;33m\u001b[0m\u001b[0m\n\u001b[1;32m--> 136\u001b[1;33m                             str(data_shape))\n\u001b[0m\u001b[0;32m    137\u001b[0m     \u001b[1;32mreturn\u001b[0m \u001b[0mdata\u001b[0m\u001b[1;33m\u001b[0m\u001b[0m\n\u001b[0;32m    138\u001b[0m \u001b[1;33m\u001b[0m\u001b[0m\n",
      "\u001b[1;31mValueError\u001b[0m: Error when checking input: expected lstm_4_input to have shape (24, 1) but got array with shape (1, 1)"
     ]
    }
   ],
   "source": [
    "#Quantidade de itens para o set inicial (número de horas)\n",
    "n = 48\n",
    "\n",
    "#Valores iniciais para predição\n",
    "vetX = []\n",
    "\n",
    "#N itens do set de test\n",
    "vetX = testX_[0:n,0,0]\n",
    "np.array(vetX)\n",
    "\n",
    "#Faz o predict dos N itens de vetx. Ao final de cada iteração insere o ultimo valor predito\n",
    "#em vetX para um novo predict.\n",
    "for i in range(len(testX_)-n+1):\n",
    "    vetX_ = np.reshape(vetX, (vetX.shape[0], 1, 1))\n",
    "    mpred_lp = model.predict(vetX_)\n",
    "    #Insere em vetX o ultimo valor predito de mpredY\n",
    "    vetX = np.append(vetX, mpred_lp[len(mpred_lp)-1,0])\n",
    "\n",
    "#Convertendo para valor não normalizado\n",
    "predY_inverse = f_norm.inverse_transform(mpred_lp.reshape(-1, 1))\n",
    "\n",
    "#Gráfico\n",
    "plt.figure(figsize = (15, 5))\n",
    "plt.plot(predictDates, predY_inverse, label='Predict')\n",
    "plt.plot(predictDates, testY_inverse, label='Atual')\n",
    "plt.legend()\n",
    "plt.show()"
   ]
  }
 ],
 "metadata": {
  "kernelspec": {
   "display_name": "Python 3",
   "language": "python",
   "name": "python3"
  },
  "language_info": {
   "codemirror_mode": {
    "name": "ipython",
    "version": 3
   },
   "file_extension": ".py",
   "mimetype": "text/x-python",
   "name": "python",
   "nbconvert_exporter": "python",
   "pygments_lexer": "ipython3",
   "version": "3.6.4"
  }
 },
 "nbformat": 4,
 "nbformat_minor": 2
}
